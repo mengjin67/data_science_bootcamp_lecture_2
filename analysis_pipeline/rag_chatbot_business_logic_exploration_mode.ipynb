{
 "cells": [
  {
   "cell_type": "markdown",
   "id": "e4d27f9d",
   "metadata": {},
   "source": [
    "# Retrieval-AugmentedGeneration (RAG)"
   ]
  },
  {
   "cell_type": "markdown",
   "id": "96ce27b1",
   "metadata": {},
   "source": [
    "## Initialize"
   ]
  },
  {
   "cell_type": "code",
   "execution_count": 1,
   "id": "4efa6f57",
   "metadata": {},
   "outputs": [],
   "source": [
    "import openai\n",
    "from dotenv import load_dotenv \n",
    "import os\n",
    "import rich\n",
    "import numpy as np"
   ]
  },
  {
   "cell_type": "markdown",
   "id": "ec7d9775",
   "metadata": {},
   "source": [
    "## An Inspiring Example\n",
    "\n",
    "1. Large language models have limitations regarding the data they are trained on, such as a fixed cutoff date and gaps in domain-specific knowledge.\n",
    "2. Retraining a large language model is expensive. For example, ChatGPT was launched on November 30, 2022, and it cost around $12 million to train the model (excluding fine-tuning)."
   ]
  },
  {
   "cell_type": "code",
   "execution_count": 17,
   "id": "8992c4d0",
   "metadata": {},
   "outputs": [
    {
     "name": "stdout",
     "output_type": "stream",
     "text": [
      "Jin Meng is a faculty member in the Department of Statistics and Actuarial Science at the University of Iowa. While I don't have specific information on their personal characteristics or personality traits, I can provide a general idea based on their professional background. Faculty members in such a department typically have strong analytical skills, attention to detail, and a deep interest in statistical theory and its applications. They are likely to be methodical, enjoy problem-solving, and have a passion for teaching and research in statistics and actuarial science. For specific information about Jin Meng's personality, you might consider reaching out to colleagues or students who have worked with them, or looking for any publicly available interviews or biographical information.\n"
     ]
    }
   ],
   "source": [
    "# Set your OpenAI API key\n",
    "load_dotenv()\n",
    "openai.api_key = os.getenv(\"OPENAI_API_KEY\")\n",
    "\n",
    "# Create a chat completion request\n",
    "response = openai.chat.completions.create(\n",
    "    model=\"gpt-4o\",\n",
    "    messages=[\n",
    "        {\"role\": \"system\", \"content\": \"You are a helpful assistant.\"},\n",
    "        {\"role\": \"user\", \"content\": \"Hello, please give me a summary about the personality of Jin Meng, who is from the department of statistics and actuarial science, University of Iowa?\"}\n",
    "    ]\n",
    ")\n",
    "\n",
    "# Print the generated message\n",
    "print(response.choices[0].message.content)"
   ]
  },
  {
   "cell_type": "markdown",
   "id": "38d37cd6",
   "metadata": {},
   "source": [
    "## RAG\n",
    "### Step 1: Load document"
   ]
  },
  {
   "cell_type": "code",
   "execution_count": 18,
   "id": "56aa4f2e",
   "metadata": {},
   "outputs": [],
   "source": [
    "# Create the PDF loader\n",
    "from langchain_community.document_loaders import PyPDFLoader\n",
    "uploads_folder = \"../.local/uploads\"\n",
    "uploads_file_path = \"cover_letter_jin_meng.pdf\"\n",
    "loader = PyPDFLoader(f\"{uploads_folder}/{uploads_file_path}\")\n",
    "\n",
    "# Load the data from the PDF\n",
    "data = loader.load()"
   ]
  },
  {
   "cell_type": "code",
   "execution_count": 19,
   "id": "54abf3ef",
   "metadata": {},
   "outputs": [
    {
     "name": "stdout",
     "output_type": "stream",
     "text": [
      "Number of documents loaded: 1\n"
     ]
    },
    {
     "data": {
      "text/html": [
       "<pre style=\"white-space:pre;overflow-x:auto;line-height:normal;font-family:Menlo,'DejaVu Sans Mono',consolas,'Courier New',monospace\">\n",
       "Sample document structure:\n",
       "</pre>\n"
      ],
      "text/plain": [
       "\n",
       "Sample document structure:\n"
      ]
     },
     "metadata": {},
     "output_type": "display_data"
    },
    {
     "data": {
      "text/html": [
       "<pre style=\"white-space:pre;overflow-x:auto;line-height:normal;font-family:Menlo,'DejaVu Sans Mono',consolas,'Courier New',monospace\">Metadata: <span style=\"font-weight: bold\">{</span><span style=\"color: #008000; text-decoration-color: #008000\">'producer'</span>: <span style=\"color: #008000; text-decoration-color: #008000\">'Microsoft® Word for Microsoft 365'</span>, <span style=\"color: #008000; text-decoration-color: #008000\">'creator'</span>: <span style=\"color: #008000; text-decoration-color: #008000\">'Microsoft® Word for Microsoft 365'</span>, \n",
       "<span style=\"color: #008000; text-decoration-color: #008000\">'creationdate'</span>: <span style=\"color: #008000; text-decoration-color: #008000\">'2022-01-03T21:28:36-06:00'</span>, <span style=\"color: #008000; text-decoration-color: #008000\">'author'</span>: <span style=\"color: #008000; text-decoration-color: #008000\">'Meng, Jin'</span>, <span style=\"color: #008000; text-decoration-color: #008000\">'moddate'</span>: <span style=\"color: #008000; text-decoration-color: #008000\">'2022-01-03T21:28:36-06:00'</span>, \n",
       "<span style=\"color: #008000; text-decoration-color: #008000\">'source'</span>: <span style=\"color: #008000; text-decoration-color: #008000\">'../.local/uploads/cover_letter_jin_meng.pdf'</span>, <span style=\"color: #008000; text-decoration-color: #008000\">'total_pages'</span>: <span style=\"color: #008080; text-decoration-color: #008080; font-weight: bold\">1</span>, <span style=\"color: #008000; text-decoration-color: #008000\">'page'</span>: <span style=\"color: #008080; text-decoration-color: #008080; font-weight: bold\">0</span>, <span style=\"color: #008000; text-decoration-color: #008000\">'page_label'</span>: <span style=\"color: #008000; text-decoration-color: #008000\">'1'</span><span style=\"font-weight: bold\">}</span>\n",
       "</pre>\n"
      ],
      "text/plain": [
       "Metadata: \u001b[1m{\u001b[0m\u001b[32m'producer'\u001b[0m: \u001b[32m'Microsoft® Word for Microsoft 365'\u001b[0m, \u001b[32m'creator'\u001b[0m: \u001b[32m'Microsoft® Word for Microsoft 365'\u001b[0m, \n",
       "\u001b[32m'creationdate'\u001b[0m: \u001b[32m'2022-01-03T21:28:36-06:00'\u001b[0m, \u001b[32m'author'\u001b[0m: \u001b[32m'Meng, Jin'\u001b[0m, \u001b[32m'moddate'\u001b[0m: \u001b[32m'2022-01-03T21:28:36-06:00'\u001b[0m, \n",
       "\u001b[32m'source'\u001b[0m: \u001b[32m'../.local/uploads/cover_letter_jin_meng.pdf'\u001b[0m, \u001b[32m'total_pages'\u001b[0m: \u001b[1;36m1\u001b[0m, \u001b[32m'page'\u001b[0m: \u001b[1;36m0\u001b[0m, \u001b[32m'page_label'\u001b[0m: \u001b[32m'1'\u001b[0m\u001b[1m}\u001b[0m\n"
      ]
     },
     "metadata": {},
     "output_type": "display_data"
    },
    {
     "data": {
      "text/html": [
       "<pre style=\"white-space:pre;overflow-x:auto;line-height:normal;font-family:Menlo,'DejaVu Sans Mono',consolas,'Courier New',monospace\">Content preview: Jin <span style=\"font-weight: bold\">(</span>Jeremy<span style=\"font-weight: bold\">)</span> Meng   \n",
       "<span style=\"color: #008080; text-decoration-color: #008080; font-weight: bold\">1650</span> Ranier Dr, Iowa City, IA <span style=\"color: #008080; text-decoration-color: #008080; font-weight: bold\">52236</span>｜<span style=\"font-weight: bold\">(</span><span style=\"color: #008080; text-decoration-color: #008080; font-weight: bold\">319</span><span style=\"font-weight: bold\">)</span><span style=\"color: #008080; text-decoration-color: #008080; font-weight: bold\">333</span>-<span style=\"color: #008080; text-decoration-color: #008080; font-weight: bold\">9236</span>｜jin.meng.uiowa@gmail.com \n",
       " \n",
       "To whom it may concern, \n",
       "I am currently a data scientist at the United Fire Group, Inc.  <span style=\"font-weight: bold\">(</span>UFG<span style=\"font-weight: bold\">)</span>, a commercial property and casualty insurance\n",
       "company. \n",
       "My major responsibility is to help build and implement underwriting pricing models for different business lines, \n",
       "including \n",
       "commercial automobile, commercial property, workers compensation, and general liability business lines. Before \n",
       "working full-\n",
       "t<span style=\"color: #808000; text-decoration-color: #808000\">...</span>\n",
       "</pre>\n"
      ],
      "text/plain": [
       "Content preview: Jin \u001b[1m(\u001b[0mJeremy\u001b[1m)\u001b[0m Meng   \n",
       "\u001b[1;36m1650\u001b[0m Ranier Dr, Iowa City, IA \u001b[1;36m52236\u001b[0m｜\u001b[1m(\u001b[0m\u001b[1;36m319\u001b[0m\u001b[1m)\u001b[0m\u001b[1;36m333\u001b[0m-\u001b[1;36m9236\u001b[0m｜jin.meng.uiowa@gmail.com \n",
       " \n",
       "To whom it may concern, \n",
       "I am currently a data scientist at the United Fire Group, Inc.  \u001b[1m(\u001b[0mUFG\u001b[1m)\u001b[0m, a commercial property and casualty insurance\n",
       "company. \n",
       "My major responsibility is to help build and implement underwriting pricing models for different business lines, \n",
       "including \n",
       "commercial automobile, commercial property, workers compensation, and general liability business lines. Before \n",
       "working full-\n",
       "t\u001b[33m...\u001b[0m\n"
      ]
     },
     "metadata": {},
     "output_type": "display_data"
    }
   ],
   "source": [
    "# Explore loaded data\n",
    "print(f\"Number of documents loaded: {len(data)}\")\n",
    "rich.print(\"\\nSample document structure:\")\n",
    "rich.print(f\"Metadata: {data[0].metadata}\")\n",
    "rich.print(f\"Content preview: {data[0].page_content[:500]}...\")"
   ]
  },
  {
   "cell_type": "markdown",
   "id": "e451bbbc",
   "metadata": {},
   "source": [
    "### Step 2: Split document"
   ]
  },
  {
   "cell_type": "code",
   "execution_count": 20,
   "id": "f7a622d8",
   "metadata": {},
   "outputs": [],
   "source": [
    "# Initialize text splitter\n",
    "from langchain.text_splitter import RecursiveCharacterTextSplitter\n",
    "text_splitter = RecursiveCharacterTextSplitter(\n",
    "    chunk_size=500,                             # Maximum number of characters in each chunk\n",
    "    chunk_overlap=50,                           # Number of characters to overlap between chunks for context\n",
    "    length_function=len,                        # Function to measure the length of each chunk (default: len for characters)\n",
    "    separators=[\"\\n\\n\", \"\\n\", \". \", \" \", \"\"]    # List of separators to split the text, tried in order\n",
    ")\n",
    "\n",
    "# Split the loaded data into smaller chunks\n",
    "# text_chunks = []\n",
    "# for doc in data:\n",
    "#     text_chunks.extend(text_splitter.split_text(doc.page_content))\n",
    "\n",
    "chunks = text_splitter.split_documents(data)"
   ]
  },
  {
   "cell_type": "code",
   "execution_count": 21,
   "id": "f7dd6226",
   "metadata": {},
   "outputs": [
    {
     "name": "stdout",
     "output_type": "stream",
     "text": [
      "\n",
      "Chunk statistics:\n",
      "  - Total chunks: 7\n",
      "  - Average length: 408 characters\n",
      "  - Min length: 360 characters\n",
      "  - Max length: 498 characters\n",
      "\n",
      "First 5 chunks:\n",
      "\n",
      "Chunk 1 (from ../.local/uploads/cover_letter_jin_meng.pdf):\n",
      "Length: 498 chars\n",
      "Content: Jin (Jeremy) Meng   \n",
      "1650 Ranier Dr, Iowa City, IA 52236｜(319)333-9236｜jin.meng.uiowa@gmail.com \n",
      " \n",
      "To whom it may concern, \n",
      "I am currently a data scientist at the United Fire Group, Inc.  (UFG), a commercial property and casualty insurance company. \n",
      "My major responsibility is to help build and implement underwriting pricing models for different business lines, including \n",
      "commercial automobile, commercial property, workers compensation, and general liability business lines. Before working full-...\n",
      "\n",
      "Chunk 2 (from ../.local/uploads/cover_letter_jin_meng.pdf):\n",
      "Length: 372 chars\n",
      "Content: time at UFG starting from August 2020, I was a data science intern and worked part-time since 2018. In the meantime, I was \n",
      "a Ph.D. student at the University of Iowa, majoring in Statistics. I achieved my Ph.D. degree in August 2020. In my Ph.D. \n",
      "years, my research interests are in the fields of regularization, extreme value theory , and classification. My research made...\n",
      "\n",
      "Chunk 3 (from ../.local/uploads/cover_letter_jin_meng.pdf):\n",
      "Length: 392 chars\n",
      "Content: contributions to some of these fields for claim severity ana lysis. In addition to the experience at UFG and the University of \n",
      "Iowa, I have other data science related working experience, such as working as a data science intern at Verisk Analytics in the \n",
      "bay area.  \n",
      "Regarding my personality, I conclude myself as a se lf-motivated person who likes learning and trying new techniques. Also,...\n",
      "\n",
      "Chunk 4 (from ../.local/uploads/cover_letter_jin_meng.pdf):\n",
      "Length: 477 chars\n",
      "Content: both my Ph.D. study and working experience trained me to be able to work independently and be detail-oriented. Although I \n",
      "can work independently, I enjoy cooperating with others, challenging each other to think, and having fun together. As Michael \n",
      "Jordan said: \"Talent wins games, but teamwork and intelligence win championships.\" I not only agree that only through \n",
      "teamwork can we achieve tough goals but also always believe that a great team can inspire every team member....\n",
      "\n",
      "Chunk 5 (from ../.local/uploads/cover_letter_jin_meng.pdf):\n",
      "Length: 382 chars\n",
      "Content: The reasons why I am interested in the data scientist II position at Zurich North America are three folds. Firstly, Zurich North \n",
      "America is a time-honored leading insurance provider. Its business covers a wide range of industries, and its customers include \n",
      "many Fortune 500 companies. More impressively, it keeps increasing in market share and maintaining a double-digit profit in...\n"
     ]
    }
   ],
   "source": [
    "# Analyze chunk statistics\n",
    "chunk_lengths = [len(chunk.page_content) for chunk in chunks]\n",
    "print(f\"\\nChunk statistics:\")\n",
    "print(f\"  - Total chunks: {len(chunks)}\")\n",
    "print(f\"  - Average length: {np.mean(chunk_lengths):.0f} characters\")\n",
    "print(f\"  - Min length: {min(chunk_lengths)} characters\")\n",
    "print(f\"  - Max length: {max(chunk_lengths)} characters\")\n",
    "\n",
    "# %% Examine chunks\n",
    "print(\"\\nFirst 5 chunks:\")\n",
    "for i, chunk in enumerate(chunks[:5]):\n",
    "    print(f\"\\nChunk {i+1} (from {chunk.metadata['source']}):\")\n",
    "    print(f\"Length: {len(chunk.page_content)} chars\")\n",
    "    print(f\"Content: {chunk.page_content}...\")"
   ]
  },
  {
   "cell_type": "markdown",
   "id": "1e210618",
   "metadata": {},
   "source": [
    "### Step 3: Store Embeddings"
   ]
  },
  {
   "cell_type": "code",
   "execution_count": 22,
   "id": "dedb4483",
   "metadata": {},
   "outputs": [
    {
     "name": "stdout",
     "output_type": "stream",
     "text": [
      "Embedding model: text-embedding-3-small\n"
     ]
    }
   ],
   "source": [
    "# Initialize OpenAI embeddings\n",
    "from langchain_openai import OpenAIEmbeddings\n",
    "embeddings_model = OpenAIEmbeddings(\n",
    "    model=\"text-embedding-3-small\",      # Model name: \"text-embedding-3-small\", \"text-embedding-3-large\", \"text-embedding-ada-002\"\n",
    "    dimensions=1536,                     # Embedding vector size: 1536 for \"text-embedding-3-small\", 3072 for \"text-embedding-3-large\"\n",
    "    organization=None                    # OpenAI organization ID (optional, default: None)\n",
    " )\n",
    "print(f\"Embedding model: {embeddings_model.model}\")"
   ]
  },
  {
   "cell_type": "code",
   "execution_count": 23,
   "id": "bc2f90ca",
   "metadata": {},
   "outputs": [],
   "source": [
    "# # Create a small test to understand embeddings\n",
    "# test_texts = [\"Python programming\", \"Machine learning algorithms\", \"Database systems\"]\n",
    "# test_embeddings = embeddings_model.embed_documents(test_texts)\n",
    "\n",
    "# print(f\"\\nEmbedding test:\")\n",
    "# print(f\"  - Input texts: {len(test_texts)}\")\n",
    "# print(f\"  - Output Embeddings: {len(test_embeddings)}\")\n",
    "# print(f\"  - Embedding dimensions: {len(test_embeddings[0])}\")\n",
    "# print(f\"  - Sample embedding values: {test_embeddings[0][:5]}...\")"
   ]
  },
  {
   "cell_type": "code",
   "execution_count": 24,
   "id": "b6f85060",
   "metadata": {},
   "outputs": [
    {
     "name": "stdout",
     "output_type": "stream",
     "text": [
      "Vector store created!\n",
      "  - Total vectors: 7\n",
      "  - Vector dimension: 1536\n",
      "  - Sample embedding values: [-0.03626532 -0.01408294  0.04419661  0.04318768 -0.01275872]...\n"
     ]
    }
   ],
   "source": [
    "# Create vector store from chunks\n",
    "from langchain_community.vectorstores import FAISS\n",
    "\n",
    "# Create a FAISS index with cosine similarity\n",
    "vectorstore = FAISS.from_documents(chunks, embeddings_model)\n",
    "\n",
    "print(f\"Vector store created!\")\n",
    "print(f\"  - Total vectors: {vectorstore.index.ntotal}\")\n",
    "print(f\"  - Vector dimension: {vectorstore.index.d}\")\n",
    "print(f\"  - Sample embedding values: {vectorstore.index.reconstruct(0)[:5]}...\")"
   ]
  },
  {
   "cell_type": "markdown",
   "id": "05800855",
   "metadata": {},
   "source": [
    "### Step 4: Retrieve relevant chunks according to similarity search"
   ]
  },
  {
   "cell_type": "code",
   "execution_count": 25,
   "id": "02af827d",
   "metadata": {},
   "outputs": [],
   "source": [
    "# query = \"Help me conclude the personality of Jin Meng\"\n",
    "\n",
    "# # Get relevant chunks\n",
    "# relevant_chunks_with_score = vectorstore.similarity_search_with_score(query, k=3)\n",
    "\n",
    "# print(f\"Found {len(relevant_chunks_with_score)} relevant chunks:\")\n",
    "# for i, (chunk, score) in enumerate(relevant_chunks_with_score):\n",
    "#     print(f\"\\n{i+1}. Similarity Score: {score:.4f}\")\n",
    "#     print(f\"\\n  {i+1}. From: {chunk.metadata['source']}\")\n",
    "#     print(f\"     Content: {chunk.page_content}...\")"
   ]
  },
  {
   "cell_type": "markdown",
   "id": "4fe4b33a",
   "metadata": {},
   "source": [
    "### Step 5: Generate output via QA with LLM"
   ]
  },
  {
   "cell_type": "code",
   "execution_count": 27,
   "id": "ac6db4b8",
   "metadata": {},
   "outputs": [],
   "source": [
    "# Step 5-1: Initialize the chat model\n",
    "from langchain_openai import ChatOpenAI\n",
    "model = ChatOpenAI(\n",
    "    model_name=\"gpt-4o\"\n",
    ")"
   ]
  },
  {
   "cell_type": "code",
   "execution_count": 28,
   "id": "22e0e74b",
   "metadata": {},
   "outputs": [],
   "source": [
    "# Step 5-2: Define the prompt template\n",
    "from langchain.prompts import PromptTemplate\n",
    "template = \"\"\"Use the following pieces of context to answer the question at the end.\n",
    "If you don't know the answer, just say that you don't know, don't try to make up an answer.\n",
    "Use three sentences maximum and keep the answer as concise as possible.\n",
    "\n",
    "{context}\n",
    "Question: {question}\n",
    "Helpful Answer:\"\"\"\n",
    "prompt = PromptTemplate.from_template(template)"
   ]
  },
  {
   "cell_type": "code",
   "execution_count": 29,
   "id": "d27dfe53",
   "metadata": {},
   "outputs": [],
   "source": [
    "# Step 5-3: Create the RetrievalQA chain\n",
    "from langchain.chains import RetrievalQA\n",
    "qa_chain = RetrievalQA.from_chain_type(\n",
    "    llm=model,\n",
    "    retriever=vectorstore.as_retriever(),\n",
    "    return_source_documents=True,\n",
    "    chain_type_kwargs={\"prompt\": prompt}\n",
    ")"
   ]
  },
  {
   "cell_type": "code",
   "execution_count": 30,
   "id": "87dc6e59",
   "metadata": {},
   "outputs": [],
   "source": [
    "# Step 5-4: Run the chain with your query\n",
    "query = \"Help me conclude the personality of Jin Meng\"\n",
    "response = qa_chain({\"query\": query})"
   ]
  },
  {
   "cell_type": "code",
   "execution_count": 31,
   "id": "a780d3e8",
   "metadata": {},
   "outputs": [
    {
     "data": {
      "text/html": [
       "<pre style=\"white-space:pre;overflow-x:auto;line-height:normal;font-family:Menlo,'DejaVu Sans Mono',consolas,'Courier New',monospace\">Jin Meng is self-motivated, enjoys learning new techniques, and is detail-oriented. He values teamwork and \n",
       "collaboration, believing that great teams inspire and achieve tough goals. He is comfortable working independently \n",
       "and likes to cooperate and challenge others.\n",
       "</pre>\n"
      ],
      "text/plain": [
       "Jin Meng is self-motivated, enjoys learning new techniques, and is detail-oriented. He values teamwork and \n",
       "collaboration, believing that great teams inspire and achieve tough goals. He is comfortable working independently \n",
       "and likes to cooperate and challenge others.\n"
      ]
     },
     "metadata": {},
     "output_type": "display_data"
    },
    {
     "data": {
      "text/html": [
       "<pre style=\"white-space:pre;overflow-x:auto;line-height:normal;font-family:Menlo,'DejaVu Sans Mono',consolas,'Courier New',monospace\"><span style=\"font-weight: bold\">[</span>\n",
       "    <span style=\"color: #800080; text-decoration-color: #800080; font-weight: bold\">Document</span><span style=\"font-weight: bold\">(</span>\n",
       "        <span style=\"color: #808000; text-decoration-color: #808000\">id</span>=<span style=\"color: #008000; text-decoration-color: #008000\">'597f0ea1-9dcd-4021-b2a9-b67af064df96'</span>,\n",
       "        <span style=\"color: #808000; text-decoration-color: #808000\">metadata</span>=<span style=\"font-weight: bold\">{</span>\n",
       "            <span style=\"color: #008000; text-decoration-color: #008000\">'producer'</span>: <span style=\"color: #008000; text-decoration-color: #008000\">'Microsoft® Word for Microsoft 365'</span>,\n",
       "            <span style=\"color: #008000; text-decoration-color: #008000\">'creator'</span>: <span style=\"color: #008000; text-decoration-color: #008000\">'Microsoft® Word for Microsoft 365'</span>,\n",
       "            <span style=\"color: #008000; text-decoration-color: #008000\">'creationdate'</span>: <span style=\"color: #008000; text-decoration-color: #008000\">'2022-01-03T21:28:36-06:00'</span>,\n",
       "            <span style=\"color: #008000; text-decoration-color: #008000\">'author'</span>: <span style=\"color: #008000; text-decoration-color: #008000\">'Meng, Jin'</span>,\n",
       "            <span style=\"color: #008000; text-decoration-color: #008000\">'moddate'</span>: <span style=\"color: #008000; text-decoration-color: #008000\">'2022-01-03T21:28:36-06:00'</span>,\n",
       "            <span style=\"color: #008000; text-decoration-color: #008000\">'source'</span>: <span style=\"color: #008000; text-decoration-color: #008000\">'../.local/uploads/cover_letter_jin_meng.pdf'</span>,\n",
       "            <span style=\"color: #008000; text-decoration-color: #008000\">'total_pages'</span>: <span style=\"color: #008080; text-decoration-color: #008080; font-weight: bold\">1</span>,\n",
       "            <span style=\"color: #008000; text-decoration-color: #008000\">'page'</span>: <span style=\"color: #008080; text-decoration-color: #008080; font-weight: bold\">0</span>,\n",
       "            <span style=\"color: #008000; text-decoration-color: #008000\">'page_label'</span>: <span style=\"color: #008000; text-decoration-color: #008000\">'1'</span>\n",
       "        <span style=\"font-weight: bold\">}</span>,\n",
       "        <span style=\"color: #808000; text-decoration-color: #808000\">page_content</span>=<span style=\"color: #008000; text-decoration-color: #008000\">'opportunity for me to learn  and strengthen my skills in processing large-scale data. </span>\n",
       "<span style=\"color: #008000; text-decoration-color: #008000\">Thirdly, according to the job description, \\nthe job responsibility seems similar to my current position. I believe</span>\n",
       "<span style=\"color: #008000; text-decoration-color: #008000\">I can adapt to the new role quickly and make contributions \\nvia my skill set and experience.  \\nThank you for your</span>\n",
       "<span style=\"color: #008000; text-decoration-color: #008000\">time and consideration. \\nSincerely, \\nJin Meng'</span>\n",
       "    <span style=\"font-weight: bold\">)</span>,\n",
       "    <span style=\"color: #800080; text-decoration-color: #800080; font-weight: bold\">Document</span><span style=\"font-weight: bold\">(</span>\n",
       "        <span style=\"color: #808000; text-decoration-color: #808000\">id</span>=<span style=\"color: #008000; text-decoration-color: #008000\">'47f8ecb4-e8f2-48f4-a935-cf917f22fa87'</span>,\n",
       "        <span style=\"color: #808000; text-decoration-color: #808000\">metadata</span>=<span style=\"font-weight: bold\">{</span>\n",
       "            <span style=\"color: #008000; text-decoration-color: #008000\">'producer'</span>: <span style=\"color: #008000; text-decoration-color: #008000\">'Microsoft® Word for Microsoft 365'</span>,\n",
       "            <span style=\"color: #008000; text-decoration-color: #008000\">'creator'</span>: <span style=\"color: #008000; text-decoration-color: #008000\">'Microsoft® Word for Microsoft 365'</span>,\n",
       "            <span style=\"color: #008000; text-decoration-color: #008000\">'creationdate'</span>: <span style=\"color: #008000; text-decoration-color: #008000\">'2022-01-03T21:28:36-06:00'</span>,\n",
       "            <span style=\"color: #008000; text-decoration-color: #008000\">'author'</span>: <span style=\"color: #008000; text-decoration-color: #008000\">'Meng, Jin'</span>,\n",
       "            <span style=\"color: #008000; text-decoration-color: #008000\">'moddate'</span>: <span style=\"color: #008000; text-decoration-color: #008000\">'2022-01-03T21:28:36-06:00'</span>,\n",
       "            <span style=\"color: #008000; text-decoration-color: #008000\">'source'</span>: <span style=\"color: #008000; text-decoration-color: #008000\">'../.local/uploads/cover_letter_jin_meng.pdf'</span>,\n",
       "            <span style=\"color: #008000; text-decoration-color: #008000\">'total_pages'</span>: <span style=\"color: #008080; text-decoration-color: #008080; font-weight: bold\">1</span>,\n",
       "            <span style=\"color: #008000; text-decoration-color: #008000\">'page'</span>: <span style=\"color: #008080; text-decoration-color: #008080; font-weight: bold\">0</span>,\n",
       "            <span style=\"color: #008000; text-decoration-color: #008000\">'page_label'</span>: <span style=\"color: #008000; text-decoration-color: #008000\">'1'</span>\n",
       "        <span style=\"font-weight: bold\">}</span>,\n",
       "        <span style=\"color: #808000; text-decoration-color: #808000\">page_content</span>=<span style=\"color: #008000; text-decoration-color: #008000\">'Jin (Jeremy) Meng   \\n1650 Ranier Dr, Iowa City, IA </span>\n",
       "<span style=\"color: #008000; text-decoration-color: #008000\">52236｜(319)333-9236｜jin.meng.uiowa@gmail.com \\n \\nTo whom it may concern, \\nI am currently a data scientist at </span>\n",
       "<span style=\"color: #008000; text-decoration-color: #008000\">the United Fire Group, Inc.  (UFG), a commercial property and casualty insurance company. \\nMy major responsibility</span>\n",
       "<span style=\"color: #008000; text-decoration-color: #008000\">is to help build and implement underwriting pricing models for different business lines, including \\ncommercial </span>\n",
       "<span style=\"color: #008000; text-decoration-color: #008000\">automobile, commercial property, workers compensation, and general liability business lines. Before working full-'</span>\n",
       "    <span style=\"font-weight: bold\">)</span>,\n",
       "    <span style=\"color: #800080; text-decoration-color: #800080; font-weight: bold\">Document</span><span style=\"font-weight: bold\">(</span>\n",
       "        <span style=\"color: #808000; text-decoration-color: #808000\">id</span>=<span style=\"color: #008000; text-decoration-color: #008000\">'944440f6-358d-4d97-b64b-35c27ed0003b'</span>,\n",
       "        <span style=\"color: #808000; text-decoration-color: #808000\">metadata</span>=<span style=\"font-weight: bold\">{</span>\n",
       "            <span style=\"color: #008000; text-decoration-color: #008000\">'producer'</span>: <span style=\"color: #008000; text-decoration-color: #008000\">'Microsoft® Word for Microsoft 365'</span>,\n",
       "            <span style=\"color: #008000; text-decoration-color: #008000\">'creator'</span>: <span style=\"color: #008000; text-decoration-color: #008000\">'Microsoft® Word for Microsoft 365'</span>,\n",
       "            <span style=\"color: #008000; text-decoration-color: #008000\">'creationdate'</span>: <span style=\"color: #008000; text-decoration-color: #008000\">'2022-01-03T21:28:36-06:00'</span>,\n",
       "            <span style=\"color: #008000; text-decoration-color: #008000\">'author'</span>: <span style=\"color: #008000; text-decoration-color: #008000\">'Meng, Jin'</span>,\n",
       "            <span style=\"color: #008000; text-decoration-color: #008000\">'moddate'</span>: <span style=\"color: #008000; text-decoration-color: #008000\">'2022-01-03T21:28:36-06:00'</span>,\n",
       "            <span style=\"color: #008000; text-decoration-color: #008000\">'source'</span>: <span style=\"color: #008000; text-decoration-color: #008000\">'../.local/uploads/cover_letter_jin_meng.pdf'</span>,\n",
       "            <span style=\"color: #008000; text-decoration-color: #008000\">'total_pages'</span>: <span style=\"color: #008080; text-decoration-color: #008080; font-weight: bold\">1</span>,\n",
       "            <span style=\"color: #008000; text-decoration-color: #008000\">'page'</span>: <span style=\"color: #008080; text-decoration-color: #008080; font-weight: bold\">0</span>,\n",
       "            <span style=\"color: #008000; text-decoration-color: #008000\">'page_label'</span>: <span style=\"color: #008000; text-decoration-color: #008000\">'1'</span>\n",
       "        <span style=\"font-weight: bold\">}</span>,\n",
       "        <span style=\"color: #808000; text-decoration-color: #808000\">page_content</span>=<span style=\"color: #008000; text-decoration-color: #008000\">'contributions to some of these fields for claim severity ana lysis. In addition to the </span>\n",
       "<span style=\"color: #008000; text-decoration-color: #008000\">experience at UFG and the University of \\nIowa, I have other data science related working experience, such as </span>\n",
       "<span style=\"color: #008000; text-decoration-color: #008000\">working as a data science intern at Verisk Analytics in the \\nbay area.  \\nRegarding my personality, I conclude </span>\n",
       "<span style=\"color: #008000; text-decoration-color: #008000\">myself as a se lf-motivated person who likes learning and trying new techniques. Also,'</span>\n",
       "    <span style=\"font-weight: bold\">)</span>,\n",
       "    <span style=\"color: #800080; text-decoration-color: #800080; font-weight: bold\">Document</span><span style=\"font-weight: bold\">(</span>\n",
       "        <span style=\"color: #808000; text-decoration-color: #808000\">id</span>=<span style=\"color: #008000; text-decoration-color: #008000\">'340a731f-2228-4f8d-a6fc-42c686d276ae'</span>,\n",
       "        <span style=\"color: #808000; text-decoration-color: #808000\">metadata</span>=<span style=\"font-weight: bold\">{</span>\n",
       "            <span style=\"color: #008000; text-decoration-color: #008000\">'producer'</span>: <span style=\"color: #008000; text-decoration-color: #008000\">'Microsoft® Word for Microsoft 365'</span>,\n",
       "            <span style=\"color: #008000; text-decoration-color: #008000\">'creator'</span>: <span style=\"color: #008000; text-decoration-color: #008000\">'Microsoft® Word for Microsoft 365'</span>,\n",
       "            <span style=\"color: #008000; text-decoration-color: #008000\">'creationdate'</span>: <span style=\"color: #008000; text-decoration-color: #008000\">'2022-01-03T21:28:36-06:00'</span>,\n",
       "            <span style=\"color: #008000; text-decoration-color: #008000\">'author'</span>: <span style=\"color: #008000; text-decoration-color: #008000\">'Meng, Jin'</span>,\n",
       "            <span style=\"color: #008000; text-decoration-color: #008000\">'moddate'</span>: <span style=\"color: #008000; text-decoration-color: #008000\">'2022-01-03T21:28:36-06:00'</span>,\n",
       "            <span style=\"color: #008000; text-decoration-color: #008000\">'source'</span>: <span style=\"color: #008000; text-decoration-color: #008000\">'../.local/uploads/cover_letter_jin_meng.pdf'</span>,\n",
       "            <span style=\"color: #008000; text-decoration-color: #008000\">'total_pages'</span>: <span style=\"color: #008080; text-decoration-color: #008080; font-weight: bold\">1</span>,\n",
       "            <span style=\"color: #008000; text-decoration-color: #008000\">'page'</span>: <span style=\"color: #008080; text-decoration-color: #008080; font-weight: bold\">0</span>,\n",
       "            <span style=\"color: #008000; text-decoration-color: #008000\">'page_label'</span>: <span style=\"color: #008000; text-decoration-color: #008000\">'1'</span>\n",
       "        <span style=\"font-weight: bold\">}</span>,\n",
       "        <span style=\"color: #808000; text-decoration-color: #808000\">page_content</span>=<span style=\"color: #008000; text-decoration-color: #008000\">'both my Ph.D. study and working experience trained me to be able to work independently and be</span>\n",
       "<span style=\"color: #008000; text-decoration-color: #008000\">detail-oriented. Although I \\ncan work independently, I enjoy cooperating with others, challenging each other to </span>\n",
       "<span style=\"color: #008000; text-decoration-color: #008000\">think, and having fun together. As Michael \\nJordan said: \"Talent wins games, but teamwork and intelligence win </span>\n",
       "<span style=\"color: #008000; text-decoration-color: #008000\">championships.\" I not only agree that only through \\nteamwork can we achieve tough goals but also always believe </span>\n",
       "<span style=\"color: #008000; text-decoration-color: #008000\">that a great team can inspire every team member.'</span>\n",
       "    <span style=\"font-weight: bold\">)</span>\n",
       "<span style=\"font-weight: bold\">]</span>\n",
       "</pre>\n"
      ],
      "text/plain": [
       "\u001b[1m[\u001b[0m\n",
       "    \u001b[1;35mDocument\u001b[0m\u001b[1m(\u001b[0m\n",
       "        \u001b[33mid\u001b[0m=\u001b[32m'597f0ea1-9dcd-4021-b2a9-b67af064df96'\u001b[0m,\n",
       "        \u001b[33mmetadata\u001b[0m=\u001b[1m{\u001b[0m\n",
       "            \u001b[32m'producer'\u001b[0m: \u001b[32m'Microsoft® Word for Microsoft 365'\u001b[0m,\n",
       "            \u001b[32m'creator'\u001b[0m: \u001b[32m'Microsoft® Word for Microsoft 365'\u001b[0m,\n",
       "            \u001b[32m'creationdate'\u001b[0m: \u001b[32m'2022-01-03T21:28:36-06:00'\u001b[0m,\n",
       "            \u001b[32m'author'\u001b[0m: \u001b[32m'Meng, Jin'\u001b[0m,\n",
       "            \u001b[32m'moddate'\u001b[0m: \u001b[32m'2022-01-03T21:28:36-06:00'\u001b[0m,\n",
       "            \u001b[32m'source'\u001b[0m: \u001b[32m'../.local/uploads/cover_letter_jin_meng.pdf'\u001b[0m,\n",
       "            \u001b[32m'total_pages'\u001b[0m: \u001b[1;36m1\u001b[0m,\n",
       "            \u001b[32m'page'\u001b[0m: \u001b[1;36m0\u001b[0m,\n",
       "            \u001b[32m'page_label'\u001b[0m: \u001b[32m'1'\u001b[0m\n",
       "        \u001b[1m}\u001b[0m,\n",
       "        \u001b[33mpage_content\u001b[0m=\u001b[32m'opportunity for me to learn  and strengthen my skills in processing large-scale data. \u001b[0m\n",
       "\u001b[32mThirdly, according to the job description, \\nthe job responsibility seems similar to my current position. I believe\u001b[0m\n",
       "\u001b[32mI can adapt to the new role quickly and make contributions \\nvia my skill set and experience.  \\nThank you for your\u001b[0m\n",
       "\u001b[32mtime and consideration. \\nSincerely, \\nJin Meng'\u001b[0m\n",
       "    \u001b[1m)\u001b[0m,\n",
       "    \u001b[1;35mDocument\u001b[0m\u001b[1m(\u001b[0m\n",
       "        \u001b[33mid\u001b[0m=\u001b[32m'47f8ecb4-e8f2-48f4-a935-cf917f22fa87'\u001b[0m,\n",
       "        \u001b[33mmetadata\u001b[0m=\u001b[1m{\u001b[0m\n",
       "            \u001b[32m'producer'\u001b[0m: \u001b[32m'Microsoft® Word for Microsoft 365'\u001b[0m,\n",
       "            \u001b[32m'creator'\u001b[0m: \u001b[32m'Microsoft® Word for Microsoft 365'\u001b[0m,\n",
       "            \u001b[32m'creationdate'\u001b[0m: \u001b[32m'2022-01-03T21:28:36-06:00'\u001b[0m,\n",
       "            \u001b[32m'author'\u001b[0m: \u001b[32m'Meng, Jin'\u001b[0m,\n",
       "            \u001b[32m'moddate'\u001b[0m: \u001b[32m'2022-01-03T21:28:36-06:00'\u001b[0m,\n",
       "            \u001b[32m'source'\u001b[0m: \u001b[32m'../.local/uploads/cover_letter_jin_meng.pdf'\u001b[0m,\n",
       "            \u001b[32m'total_pages'\u001b[0m: \u001b[1;36m1\u001b[0m,\n",
       "            \u001b[32m'page'\u001b[0m: \u001b[1;36m0\u001b[0m,\n",
       "            \u001b[32m'page_label'\u001b[0m: \u001b[32m'1'\u001b[0m\n",
       "        \u001b[1m}\u001b[0m,\n",
       "        \u001b[33mpage_content\u001b[0m=\u001b[32m'Jin \u001b[0m\u001b[32m(\u001b[0m\u001b[32mJeremy\u001b[0m\u001b[32m)\u001b[0m\u001b[32m Meng   \\n1650 Ranier Dr, Iowa City, IA \u001b[0m\n",
       "\u001b[32m52236｜\u001b[0m\u001b[32m(\u001b[0m\u001b[32m319\u001b[0m\u001b[32m)\u001b[0m\u001b[32m333-9236｜jin.meng.uiowa@gmail.com \\n \\nTo whom it may concern, \\nI am currently a data scientist at \u001b[0m\n",
       "\u001b[32mthe United Fire Group, Inc.  \u001b[0m\u001b[32m(\u001b[0m\u001b[32mUFG\u001b[0m\u001b[32m)\u001b[0m\u001b[32m, a commercial property and casualty insurance company. \\nMy major responsibility\u001b[0m\n",
       "\u001b[32mis to help build and implement underwriting pricing models for different business lines, including \\ncommercial \u001b[0m\n",
       "\u001b[32mautomobile, commercial property, workers compensation, and general liability business lines. Before working full-'\u001b[0m\n",
       "    \u001b[1m)\u001b[0m,\n",
       "    \u001b[1;35mDocument\u001b[0m\u001b[1m(\u001b[0m\n",
       "        \u001b[33mid\u001b[0m=\u001b[32m'944440f6-358d-4d97-b64b-35c27ed0003b'\u001b[0m,\n",
       "        \u001b[33mmetadata\u001b[0m=\u001b[1m{\u001b[0m\n",
       "            \u001b[32m'producer'\u001b[0m: \u001b[32m'Microsoft® Word for Microsoft 365'\u001b[0m,\n",
       "            \u001b[32m'creator'\u001b[0m: \u001b[32m'Microsoft® Word for Microsoft 365'\u001b[0m,\n",
       "            \u001b[32m'creationdate'\u001b[0m: \u001b[32m'2022-01-03T21:28:36-06:00'\u001b[0m,\n",
       "            \u001b[32m'author'\u001b[0m: \u001b[32m'Meng, Jin'\u001b[0m,\n",
       "            \u001b[32m'moddate'\u001b[0m: \u001b[32m'2022-01-03T21:28:36-06:00'\u001b[0m,\n",
       "            \u001b[32m'source'\u001b[0m: \u001b[32m'../.local/uploads/cover_letter_jin_meng.pdf'\u001b[0m,\n",
       "            \u001b[32m'total_pages'\u001b[0m: \u001b[1;36m1\u001b[0m,\n",
       "            \u001b[32m'page'\u001b[0m: \u001b[1;36m0\u001b[0m,\n",
       "            \u001b[32m'page_label'\u001b[0m: \u001b[32m'1'\u001b[0m\n",
       "        \u001b[1m}\u001b[0m,\n",
       "        \u001b[33mpage_content\u001b[0m=\u001b[32m'contributions to some of these fields for claim severity ana lysis. In addition to the \u001b[0m\n",
       "\u001b[32mexperience at UFG and the University of \\nIowa, I have other data science related working experience, such as \u001b[0m\n",
       "\u001b[32mworking as a data science intern at Verisk Analytics in the \\nbay area.  \\nRegarding my personality, I conclude \u001b[0m\n",
       "\u001b[32mmyself as a se lf-motivated person who likes learning and trying new techniques. Also,'\u001b[0m\n",
       "    \u001b[1m)\u001b[0m,\n",
       "    \u001b[1;35mDocument\u001b[0m\u001b[1m(\u001b[0m\n",
       "        \u001b[33mid\u001b[0m=\u001b[32m'340a731f-2228-4f8d-a6fc-42c686d276ae'\u001b[0m,\n",
       "        \u001b[33mmetadata\u001b[0m=\u001b[1m{\u001b[0m\n",
       "            \u001b[32m'producer'\u001b[0m: \u001b[32m'Microsoft® Word for Microsoft 365'\u001b[0m,\n",
       "            \u001b[32m'creator'\u001b[0m: \u001b[32m'Microsoft® Word for Microsoft 365'\u001b[0m,\n",
       "            \u001b[32m'creationdate'\u001b[0m: \u001b[32m'2022-01-03T21:28:36-06:00'\u001b[0m,\n",
       "            \u001b[32m'author'\u001b[0m: \u001b[32m'Meng, Jin'\u001b[0m,\n",
       "            \u001b[32m'moddate'\u001b[0m: \u001b[32m'2022-01-03T21:28:36-06:00'\u001b[0m,\n",
       "            \u001b[32m'source'\u001b[0m: \u001b[32m'../.local/uploads/cover_letter_jin_meng.pdf'\u001b[0m,\n",
       "            \u001b[32m'total_pages'\u001b[0m: \u001b[1;36m1\u001b[0m,\n",
       "            \u001b[32m'page'\u001b[0m: \u001b[1;36m0\u001b[0m,\n",
       "            \u001b[32m'page_label'\u001b[0m: \u001b[32m'1'\u001b[0m\n",
       "        \u001b[1m}\u001b[0m,\n",
       "        \u001b[33mpage_content\u001b[0m=\u001b[32m'both my Ph.D. study and working experience trained me to be able to work independently and be\u001b[0m\n",
       "\u001b[32mdetail-oriented. Although I \\ncan work independently, I enjoy cooperating with others, challenging each other to \u001b[0m\n",
       "\u001b[32mthink, and having fun together. As Michael \\nJordan said: \"Talent wins games, but teamwork and intelligence win \u001b[0m\n",
       "\u001b[32mchampionships.\" I not only agree that only through \\nteamwork can we achieve tough goals but also always believe \u001b[0m\n",
       "\u001b[32mthat a great team can inspire every team member.'\u001b[0m\n",
       "    \u001b[1m)\u001b[0m\n",
       "\u001b[1m]\u001b[0m\n"
      ]
     },
     "metadata": {},
     "output_type": "display_data"
    }
   ],
   "source": [
    "rich.print(response[\"result\"])\n",
    "rich.print(response[\"source_documents\"])"
   ]
  },
  {
   "cell_type": "markdown",
   "id": "a587e7dd",
   "metadata": {},
   "source": [
    "### Notes\n",
    "- The RAG Process finishes the backend business logic/data layer of a web application.\n",
    "- To have a full web application, we would need two more things:\n",
    "    1. A HTTP Request Handling (Backend API Layer)\n",
    "    2. A frontend web app."
   ]
  },
  {
   "cell_type": "markdown",
   "id": "1da2fc43",
   "metadata": {},
   "source": []
  }
 ],
 "metadata": {
  "kernelspec": {
   "display_name": "data_science_bootcamp_lecture_2",
   "language": "python",
   "name": "python3"
  },
  "language_info": {
   "codemirror_mode": {
    "name": "ipython",
    "version": 3
   },
   "file_extension": ".py",
   "mimetype": "text/x-python",
   "name": "python",
   "nbconvert_exporter": "python",
   "pygments_lexer": "ipython3",
   "version": "3.10.18"
  }
 },
 "nbformat": 4,
 "nbformat_minor": 5
}
